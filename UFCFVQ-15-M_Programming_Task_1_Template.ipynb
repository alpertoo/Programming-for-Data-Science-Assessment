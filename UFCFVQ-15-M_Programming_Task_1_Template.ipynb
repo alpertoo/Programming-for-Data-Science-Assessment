{
 "cells": [
  {
   "cell_type": "markdown",
   "metadata": {
    "deletable": false
   },
   "source": [
    "# UFCFVQ-15-M Programming for Data Science (Autumn 2023)\n"
   ]
  },
  {
   "cell_type": "markdown",
   "metadata": {},
   "source": [
    "## Student Id:"
   ]
  },
  {
   "cell_type": "markdown",
   "metadata": {
    "deletable": false
   },
   "source": [
    "# Programming Task 1"
   ]
  },
  {
   "cell_type": "markdown",
   "metadata": {
    "deletable": false
   },
   "source": [
    "### Requirement FR1 - Develop a function to read a single column from a CSV file"
   ]
  },
  {
   "cell_type": "code",
   "execution_count": 1,
   "metadata": {
    "deletable": false
   },
   "outputs": [],
   "source": [
    "def read_column(file_name, column_number):\n",
    "    \"\"\"\n",
    "    Reads a single specified column of data from a CSV file.\n",
    "\n",
    "    PARAMETERS\n",
    "    - file_name (String): The name of the CSV file.\n",
    "    - column_number (Integer): The number of the column to read (0-based).\n",
    "\n",
    "    RETURNS: \n",
    "    - column_name (String): the column name\n",
    "    - selected_column_values (List): a List containing all the specified column's data values.\n",
    "    \"\"\"\n",
    "\n",
    "    # The rows of the file\n",
    "    rows = []\n",
    "    # The values of the selected column\n",
    "    selected_column_values = []\n",
    "\n",
    "    with open(file_name,\"r\", encoding='utf-8-sig') as file:\n",
    "        \n",
    "        # Iterate through each line of the CSV file\n",
    "        for row in file:\n",
    "            # Drop the escape characters at the end of the elements. Split each row into a list of values.\n",
    "            rows.append(row.strip().split(\",\"))\n",
    "\n",
    "    # Total number of columns 0-based\n",
    "    total_columns = len(rows[0]) - 1\n",
    "\n",
    "    if column_number < 0 or column_number > total_columns:\n",
    "        raise ValueError(\"Please enter a column number between 0 and \" + str(total_columns))\n",
    "    else:\n",
    "        for i in range(0, len(rows)):\n",
    "            if i == 0:\n",
    "                column_name = rows[i][column_number]\n",
    "            else:\n",
    "                selected_column_values.append(int(rows[i][column_number]))\n",
    "            \n",
    "        return column_name, selected_column_values"
   ]
  },
  {
   "cell_type": "markdown",
   "metadata": {
    "deletable": false
   },
   "source": [
    "### Requirement FR2 - Develop a function to read CSV data from a file into memory"
   ]
  },
  {
   "cell_type": "code",
   "execution_count": 2,
   "metadata": {
    "deletable": false
   },
   "outputs": [],
   "source": [
    "def read_to_dictionary(file_name):\n",
    "    \"\"\"\n",
    "    Reads all columns of data from the data file and add them to a Dictionary data structure.\n",
    "    Makes use of the read_column() function.\n",
    "\n",
    "    PARAMETERS\n",
    "    - file_name (String): The name of the CSV file.\n",
    "\n",
    "    RETURNS\n",
    "    - dictionary_output (Dictionary): The dictionary contains one entry for each column in the CSV data file.\n",
    "    \"\"\"\n",
    "    dictionary_output = {}\n",
    "\n",
    "    total_column_number = 0\n",
    "\n",
    "    # Get the total number of the columns in the csv file and assign the result to the total_column_number.\n",
    "    with open(file_name,\"r\", encoding='utf-8-sig') as file:\n",
    "        columns = file.readline().strip().split(\",\")\n",
    "        total_column_number = len(columns)\n",
    "\n",
    "    # Pass the total_column_number as a dictionary\n",
    "    for column in range(0, total_column_number):\n",
    "        # Unpack the return values of the read_column() function.\n",
    "        (dict_key, dict_value) = read_column(file_name, column)\n",
    "        # Assign the results to the dictionary_output.\n",
    "        dictionary_output[dict_key] = dict_value\n",
    "\n",
    "    return dictionary_output"
   ]
  },
  {
   "cell_type": "markdown",
   "metadata": {
    "deletable": false
   },
   "source": [
    "### Requirement FR3 - Develop a function to calculate the Kendall Tau Correlation Coefficient for two lists of data"
   ]
  },
  {
   "cell_type": "code",
   "execution_count": 3,
   "metadata": {
    "deletable": false
   },
   "outputs": [],
   "source": [
    "def calculate_kendall_tau(list1, list2):\n",
    "    \"\"\"\n",
    "    Calculates the Kendall Tau Rank Correlation Coefficient for two lists of data.\n",
    "\n",
    "    PARAMETERS\n",
    "    - list1 (List): A list.\n",
    "    - list2 (List): A list.\n",
    "\n",
    "    * Two lists should be of equal length.\n",
    "\n",
    "    RETURNS\n",
    "    - The calculated coefficient value. \n",
    "    \"\"\"\n",
    "\n",
    "    # Number of the values in each list\n",
    "    n = len(list1)\n",
    "\n",
    "    # Variables to hold values\n",
    "    number_of_concordants = 0\n",
    "    number_of_discordants = 0\n",
    "    ties_in_list1 = 0\n",
    "    ties_in_list2 = 0\n",
    "\n",
    "    # Check if the two lists are of equal length\n",
    "    if len(list1) == len(list2):\n",
    "    \n",
    "    # Calculate the variables\n",
    "        for x in range(n):\n",
    "            for y in range(x+1, n):\n",
    "                if (list1[x] < list1[y] and list2[x] < list2[y]) or (list1[x] > list1[y] and list2[x] > list2[y]):\n",
    "                    number_of_concordants += 1\n",
    "                elif (list1[x] < list1[y] and list2[x] > list2[y]) or (list1[x] > list1[y] and list2[x] < list2[y]):\n",
    "                    number_of_discordants += 1\n",
    "                elif list1[x] == list1[y] and list2[x] != list2[y]:\n",
    "                    ties_in_list1 += 1\n",
    "                elif list2[x] == list2[y] and list1[x] != list1[y]:\n",
    "                    ties_in_list2 += 1\n",
    "                elif list1[x] == list1[y] and list2[x] == list2[y]: # Discard if a tie occurs for the same pair in both lists.\n",
    "                    pass\n",
    "\n",
    "        # Assign the calculations to variables\n",
    "        numerator = number_of_concordants - number_of_discordants\n",
    "        denominator = (((number_of_concordants + number_of_discordants + ties_in_list1) * (number_of_concordants + number_of_discordants + ties_in_list2)) ** 0.5)\n",
    "        \n",
    "        if denominator == 0:\n",
    "            return 0\n",
    "        else:\n",
    "            return numerator / denominator\n",
    "    else:\n",
    "        raise ValueError(\"The two lists should be of equal length\")"
   ]
  },
  {
   "cell_type": "markdown",
   "metadata": {
    "deletable": false
   },
   "source": [
    "### Requirement FR4 - Develop a function to generate a set of Kendall Tau Correlation Coefficients for a data structure like the one generated in FR2"
   ]
  },
  {
   "cell_type": "code",
   "execution_count": 10,
   "metadata": {
    "deletable": false
   },
   "outputs": [],
   "source": [
    "def generate_kendall_tau(a_dict = read_to_dictionary):\n",
    "    \"\"\" \n",
    "    Generates a set of Kendall Rank Correlation Coefficients for a given data file. Uses the calculate_kendall_tau() function.\n",
    "    \n",
    "    PARAMETERS\n",
    "    - A dictionary. Default: the dictionary output read_dict from read_to_Dictionary() function\n",
    "\n",
    "    RETURNS\n",
    "    - A list of tuples, each tuple containing the two column names and associated correlation coefficient value.\n",
    "    \"\"\"\n",
    "\n",
    "    # The keys of the dictionary.\n",
    "    keys = []\n",
    "\n",
    "    # The results of the Kendall Tau Correlation Coefficients.\n",
    "    results = []\n",
    "\n",
    "    # Iterate through the keys and add each key to keys list.\n",
    "    for key, value in a_dict.items():\n",
    "        keys.append(key)\n",
    "\n",
    "    # Number of the elements in the dictionary\n",
    "    n = len(keys)\n",
    "\n",
    "    # Iterate through all pairs of elements. \n",
    "    for x in range(n):\n",
    "        for y in range(x + 1, n):\n",
    "            if x != y: # Discard pairs of the same column.\n",
    "                first_value = a_dict[keys[x]]\n",
    "                second_value = a_dict[keys[y]]\n",
    "                calculated_kendall_tau = calculate_kendall_tau(first_value, second_value)\n",
    "\n",
    "                # Add the column names and the Kendall Tau Correlation Coefficient to the results list as tuples.\n",
    "                results.append((keys[x], keys[y], calculated_kendall_tau))\n",
    "    \n",
    "    return results\n"
   ]
  },
  {
   "cell_type": "markdown",
   "metadata": {
    "deletable": false
   },
   "source": [
    "### Requirement FR5 - Develop a function to print a custom table for selected data from a data structure like the one generated in FR4"
   ]
  },
  {
   "cell_type": "code",
   "execution_count": 20,
   "metadata": {
    "deletable": false
   },
   "outputs": [],
   "source": [
    "def print_custom_table(list_of_tuples, border_char = \"*\", columns_to_include = None):\n",
    "\n",
    "    \"\"\" \n",
    "    Prints a dynamic table for Kendall Tau Rank Correlation Coefficients.\n",
    "\n",
    "    PARAMETERS\n",
    "    - list_of_tuples (List): List of tuples containing column names and correlation coefficients.\n",
    "    - border_char (String): Border character to use in the table. Default is '*'.\n",
    "    - columns_to_include (List): List of columns to include in the table. Default includes all columns.\n",
    "\n",
    "    RETURNS\n",
    "    - None\n",
    "    \"\"\"\n",
    "    \n",
    "    # If the columns_to_include not provided\n",
    "    if columns_to_include == None:\n",
    "        columns_to_include = []\n",
    "    \n",
    "        # Iterate over each tuple in list_of_tuples\n",
    "        for each_tuple in list_of_tuples:\n",
    "            # Iterate over the first two elements and add to the columns_to_include list\n",
    "            for each_column in each_tuple[:2]:\n",
    "                # Assure the columns names are unique\n",
    "                if each_column not in columns_to_include:\n",
    "                    columns_to_include.append(each_column)\n",
    "\n",
    "    # List to store column names\n",
    "    column_names = columns_to_include\n",
    "\n",
    "    # Dictionary to store correlation coefficients\n",
    "    coefficients = {}\n",
    "\n",
    "    # Iterate over each tuple in list_of_tuples\n",
    "    for first_column, second_column, coefficient in list_of_tuples:\n",
    "        # Key (first_column, second_column) : value (coefficient)\n",
    "        coefficients[(first_column, second_column)] = coefficient\n",
    "\n",
    "    # Calculate the length of the longest column name\n",
    "    max_column_length = 0\n",
    "\n",
    "    # Iterate over each column name in column_names\n",
    "    for col in column_names:\n",
    "        max_column_length = max(max_column_length, len(col))\n",
    "\n",
    "    # Create the header row with centered column names and a border_char between each column padded with empty spaces.\n",
    "    # Longest column name has 1 space at the start and end.\n",
    "    header = f\"{border_char}{''.join(f'{col.center(max_column_length + 1).ljust((max_column_length + 1) + len(border_char))}{border_char}' for col in column_names)}{border_char}\"\n",
    "\n",
    "\n",
    "    header_length = len(header)\n",
    "    # Length of the space to add at the beginning of the first line and header\n",
    "    space_length = max_column_length + 2\n",
    "    first_line = border_char * header_length\n",
    "    print(\" \" * space_length + first_line)\n",
    "    print(\" \" * space_length + header)\n",
    "    print(border_char * space_length + first_line)\n",
    "    \n",
    "    # Iterate over each column in column_names\n",
    "    for col1 in column_names:\n",
    "        # Row with the first column name centered and padded\n",
    "        row = f\"{border_char} {col1.center(max_column_length)} {border_char}\"\n",
    "\n",
    "        # Iterate over each column in column_names again to fill in the values\n",
    "        for col2 in column_names:\n",
    "            # If the columns are the same, print \"-\"\n",
    "            if col1 == col2:\n",
    "                value = \"-\"\n",
    "            else:\n",
    "                # Otherwise, get the coefficient and format it with 4 decimal places\n",
    "                value = f'{coefficients.get((col1, col2), coefficients.get((col2, col1), \"-\")):.4f}'\n",
    "\n",
    "            # Add the value centered within max_column_length\n",
    "            row += f\" {value.center(max_column_length)}{border_char} \"\n",
    "\n",
    "        print(row)\n",
    "\n",
    "        # Create and print the footer row\n",
    "        print(border_char * len(row))"
   ]
  }
 ],
 "metadata": {
  "kernelspec": {
   "display_name": "Python 3 (ipykernel)",
   "language": "python",
   "name": "python3"
  },
  "language_info": {
   "codemirror_mode": {
    "name": "ipython",
    "version": 3
   },
   "file_extension": ".py",
   "mimetype": "text/x-python",
   "name": "python",
   "nbconvert_exporter": "python",
   "pygments_lexer": "ipython3",
   "version": "3.11.4"
  }
 },
 "nbformat": 4,
 "nbformat_minor": 4
}
